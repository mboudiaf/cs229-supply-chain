{
 "cells": [
  {
   "cell_type": "markdown",
   "metadata": {},
   "source": [
    "# CS 229 project : Calvin, Zozo & Lilie"
   ]
  },
  {
   "cell_type": "code",
   "execution_count": 1,
   "metadata": {
    "collapsed": false
   },
   "outputs": [],
   "source": [
    "import pandas as pd\n",
    "import datetime\n",
    "import matplotlib.pyplot as plt\n",
    "%matplotlib inline "
   ]
  },
  {
   "cell_type": "markdown",
   "metadata": {},
   "source": [
    "### Chosing parameters of simulation"
   ]
  },
  {
   "cell_type": "code",
   "execution_count": 2,
   "metadata": {
    "collapsed": true
   },
   "outputs": [],
   "source": [
    "country = 'France'\n",
    "timestep = 1 # [h]\n",
    "horizon = 24 # [h] We want the model for be efficient for 24 \n",
    "hours_of_data = 30*24 # [h]\n",
    "#algo = ? # among ['value_iteration','Approximate Q-learning','Fuzzy Q-learning' ]"
   ]
  },
  {
   "cell_type": "markdown",
   "metadata": {},
   "source": [
    "### Loading data"
   ]
  },
  {
   "cell_type": "code",
   "execution_count": 3,
   "metadata": {
    "collapsed": false
   },
   "outputs": [],
   "source": [
    "from utilities import *\n",
    "file_solar = \"../data/solar.xls\" # w\n",
    "file_wind = \"../data/wind.xls\" # MW\n",
    "file_price = \"../data/price.xlsx\" # euro / MW\n",
    "\n",
    "tableau = pd.DataFrame(generate_table(file_solar, file_wind, file_price, country))\n",
    "price_dataset=tableau[3][:]\n",
    "solar_dataset=tableau[1][:]\n",
    "wind_dataset =tableau[2][:]"
   ]
  },
  {
   "cell_type": "markdown",
   "metadata": {},
   "source": [
    "### Converting units"
   ]
  },
  {
   "cell_type": "code",
   "execution_count": 4,
   "metadata": {
    "collapsed": false
   },
   "outputs": [],
   "source": [
    "solar_dataset = solar_dataset.values * 1000 # mW -> kW\n",
    "wind_dataset = wind_dataset.values * 1000\n",
    "price_dataset = price_dataset.values / 1000 # euro/mW -> euro/kW\n",
    "prod_dataset = wind_dataset + price_dataset"
   ]
  },
  {
   "cell_type": "markdown",
   "metadata": {},
   "source": [
    "### Normalizing data"
   ]
  },
  {
   "cell_type": "code",
   "execution_count": 5,
   "metadata": {
    "collapsed": false
   },
   "outputs": [],
   "source": [
    "desired_prod_max= 10000 #kW\n",
    "#desired_prod_std= 50\n",
    "#normalized_prod_dataset = (prod_dataset - prod_dataset.mean())/prod_dataset.std()*desired_prod_std + desired_prod_mean\n",
    "normalized_prod_dataset = desired_prod_max * (wind_dataset/wind_dataset.max() + solar_dataset/solar_dataset.max())\n",
    "normalized_price_dataset= price_dataset"
   ]
  },
  {
   "cell_type": "markdown",
   "metadata": {},
   "source": [
    "### Splitting data"
   ]
  },
  {
   "cell_type": "code",
   "execution_count": 6,
   "metadata": {
    "collapsed": false
   },
   "outputs": [],
   "source": [
    "# We have data for 1 month\n",
    "# So we can split the data as such : 26 days for training set , 2 days for dev set, 2 days for test set\n",
    "\n",
    "#First we form day sequences of data\n",
    "day_split_prod = [normalized_prod_dataset[24*i:24*(i+1)] for i in range(30)]\n",
    "day_split_price = [normalized_price_dataset[24*i:24*(i+1)] for i in range(30)]\n",
    "\n",
    "# (Optional) We shuffle\n",
    "#np.random.seed(0)\n",
    "#random_order = np.random.permutation(range(30))\n",
    "random_order = list(range(30))\n",
    "\n",
    "#Splitting data\n",
    "prod_train = [day_split_prod[i] for i in random_order[4:]]\n",
    "prod_val = [day_split_prod[i] for i in random_order[2:4]]\n",
    "prod_test = [day_split_prod[i] for i in random_order[0:2]]\n",
    "\n",
    "price_train = [day_split_price[i] for i in random_order[4:]]\n",
    "price_val = [day_split_price[i] for i in random_order[2:4]]\n",
    "price_test = [day_split_price[i] for i in random_order[0:2]]"
   ]
  },
  {
   "cell_type": "markdown",
   "metadata": {},
   "source": [
    "### Chosing the discretizations"
   ]
  },
  {
   "cell_type": "code",
   "execution_count": 7,
   "metadata": {
    "collapsed": false
   },
   "outputs": [
    {
     "name": "stdout",
     "output_type": "stream",
     "text": [
      "Number of actions : 100\n",
      "Number of states : 24000000000\n"
     ]
    }
   ],
   "source": [
    "# STATES\n",
    "discrete_battery=np.linspace(0,100,100)\n",
    "discrete_vessel=np.linspace(0,100,100)\n",
    "discrete_grid_price=np.linspace(min(normalized_price_dataset),max(normalized_price_dataset),100) # euro/kW\n",
    "discrete_prod=np.linspace(min(normalized_prod_dataset),max(normalized_prod_dataset),100) # kW\n",
    "\n",
    "\n",
    "#ACTIONS\n",
    "discrete_elec_regime=np.linspace(20,40,10)# % of max rate production of electrolyzer\n",
    "discrete_buy_sell=np.linspace(-15,15,10)# % of battery capacity\n",
    "\n",
    "\n",
    "n_states=24*len(discrete_battery)*len(discrete_vessel)*len(discrete_grid_price)*len(discrete_prod)*len(discrete_elec_regime)\n",
    "n_actions=len(discrete_elec_regime)*len(discrete_buy_sell)\n",
    "print(\"Number of actions :\",n_actions)\n",
    "print(\"Number of states :\",n_states)"
   ]
  },
  {
   "cell_type": "markdown",
   "metadata": {},
   "source": [
    "### Building the environment"
   ]
  },
  {
   "cell_type": "code",
   "execution_count": 8,
   "metadata": {
    "collapsed": false
   },
   "outputs": [],
   "source": [
    "import pickle\n",
    "from environment.SupplyChainEnv import SupplyChainEnv\n",
    "from experiment.experiment import  Experiment\n",
    "from learner.interface import ActionValueTable\n",
    "from explorer.egreedy import EpsilonGreedyExplorer\n",
    "from agent.learning import LearningAgent\n",
    "from learner.q import Q\n",
    "from environment.SupplyTask import SupplyTaskMDP\n",
    "from agent.logging import LoggingAgent"
   ]
  },
  {
   "cell_type": "code",
   "execution_count": 9,
   "metadata": {
    "collapsed": false
   },
   "outputs": [],
   "source": [
    "#learner = Q(epsilon=0.5) # comes by default with explorer = EpsilonGreedyExplorer(epsilon = 0.3, decay = 0.9999)\n",
    "agent=pickle.load(open('models/agent_nfq.txt','rb'))\n",
    "#agent = LearningAgent(controller, learner)"
   ]
  },
  {
   "cell_type": "code",
   "execution_count": 10,
   "metadata": {
    "collapsed": false
   },
   "outputs": [
    {
     "name": "stdout",
     "output_type": "stream",
     "text": [
      "Initial battery load : 21212.121212121212  kW.h\n",
      "Initial vessel load : 202.02020202020202  kg\n",
      "Initial electrolyzer regime : 28.88888888888889\n"
     ]
    }
   ],
   "source": [
    "environment = SupplyChainEnv(prod_train[0],price_train[0],discrete_battery,discrete_vessel,discrete_elec_regime,discrete_grid_price,discrete_prod,discrete_buy_sell)\n",
    "task = SupplyTaskMDP(environment)"
   ]
  },
  {
   "cell_type": "code",
   "execution_count": 11,
   "metadata": {
    "collapsed": true
   },
   "outputs": [],
   "source": [
    "experiment = Experiment(task, agent)"
   ]
  },
  {
   "cell_type": "markdown",
   "metadata": {},
   "source": [
    "### Evaluation of the model"
   ]
  },
  {
   "cell_type": "code",
   "execution_count": 12,
   "metadata": {
    "collapsed": true
   },
   "outputs": [],
   "source": [
    "def eval_agent(agent,environment,experiment,prod_val,price_val,horizon=24):\n",
    "    # Loop over all the evaluation days\n",
    "    utilities = []\n",
    "    battery_states = []\n",
    "    flow_g = []\n",
    "    regime_e = []\n",
    "    h2_vessel_states = []\n",
    "    for prod,price in zip(prod_val,price_val):\n",
    "        agent.reset()\n",
    "        environment.reset(prod,price)\n",
    "        print(environment.h2_vessel.current_load)\n",
    "        battery_states_day,h2_vessel_states_day,regime_e_day,flow_g_day=experiment.doInteractions(horizon,test=True)\n",
    "        \n",
    "        samples= agent.learner.dataset\n",
    "        r=0\n",
    "        for seq in samples:\n",
    "            for _,_,reward in seq:\n",
    "                r+=reward\n",
    "        utilities.append(r)\n",
    "        battery_states.append(battery_states_day)\n",
    "        h2_vessel_states.append(h2_vessel_states_day)\n",
    "        flow_g.append(flow_g_day)\n",
    "        regime_e.append(regime_e_day)\n",
    "    return utilities,battery_states,h2_vessel_states,flow_g,regime_e"
   ]
  },
  {
   "cell_type": "code",
   "execution_count": 13,
   "metadata": {
    "collapsed": false
   },
   "outputs": [
    {
     "ename": "TypeError",
     "evalue": "eval_agent() got an unexpected keyword argument 'actions'",
     "output_type": "error",
     "traceback": [
      "\u001b[1;31m---------------------------------------------------------------------------\u001b[0m",
      "\u001b[1;31mTypeError\u001b[0m                                 Traceback (most recent call last)",
      "\u001b[1;32m<ipython-input-13-ed5cf983e3a5>\u001b[0m in \u001b[0;36m<module>\u001b[1;34m()\u001b[0m\n\u001b[0;32m      1\u001b[0m \u001b[1;31m#Validation set\u001b[0m\u001b[1;33m\u001b[0m\u001b[1;33m\u001b[0m\u001b[0m\n\u001b[1;32m----> 2\u001b[1;33m \u001b[0mutilities\u001b[0m\u001b[1;33m,\u001b[0m\u001b[0mbattery_states\u001b[0m\u001b[1;33m,\u001b[0m\u001b[0mh2_vessel_states\u001b[0m\u001b[1;33m,\u001b[0m\u001b[0mflow_g\u001b[0m\u001b[1;33m,\u001b[0m\u001b[0mregime_e\u001b[0m \u001b[1;33m=\u001b[0m \u001b[0meval_agent\u001b[0m\u001b[1;33m(\u001b[0m\u001b[0magent\u001b[0m\u001b[1;33m,\u001b[0m\u001b[0menvironment\u001b[0m\u001b[1;33m,\u001b[0m\u001b[0mexperiment\u001b[0m\u001b[1;33m,\u001b[0m\u001b[1;33m[\u001b[0m\u001b[0mnormalized_prod_dataset\u001b[0m\u001b[1;33m[\u001b[0m\u001b[1;36m0\u001b[0m\u001b[1;33m:\u001b[0m\u001b[1;36m48\u001b[0m\u001b[1;33m]\u001b[0m\u001b[1;33m]\u001b[0m\u001b[1;33m,\u001b[0m\u001b[1;33m[\u001b[0m\u001b[0mnormalized_price_dataset\u001b[0m\u001b[1;33m[\u001b[0m\u001b[1;36m0\u001b[0m\u001b[1;33m:\u001b[0m\u001b[1;36m48\u001b[0m\u001b[1;33m]\u001b[0m\u001b[1;33m]\u001b[0m\u001b[1;33m,\u001b[0m\u001b[0mhorizon\u001b[0m\u001b[1;33m=\u001b[0m\u001b[1;36m48\u001b[0m\u001b[1;33m,\u001b[0m\u001b[0mactions\u001b[0m \u001b[1;33m=\u001b[0m \u001b[1;32mNone\u001b[0m\u001b[1;33m)\u001b[0m\u001b[1;33m\u001b[0m\u001b[0m\n\u001b[0m",
      "\u001b[1;31mTypeError\u001b[0m: eval_agent() got an unexpected keyword argument 'actions'"
     ]
    }
   ],
   "source": [
    "#Validation set\n",
    "utilities,battery_states,h2_vessel_states,flow_g,regime_e = eval_agent(agent,environment,experiment,[normalized_prod_dataset[0:48]],[normalized_price_dataset[0:48]],horizon=48)"
   ]
  },
  {
   "cell_type": "code",
   "execution_count": 14,
   "metadata": {
    "collapsed": false
   },
   "outputs": [
    {
     "ename": "NameError",
     "evalue": "name 'battery_states' is not defined",
     "output_type": "error",
     "traceback": [
      "\u001b[1;31m---------------------------------------------------------------------------\u001b[0m",
      "\u001b[1;31mNameError\u001b[0m                                 Traceback (most recent call last)",
      "\u001b[1;32m<ipython-input-14-0ea9797b0920>\u001b[0m in \u001b[0;36m<module>\u001b[1;34m()\u001b[0m\n\u001b[0;32m      2\u001b[0m \u001b[1;33m\u001b[0m\u001b[0m\n\u001b[0;32m      3\u001b[0m \u001b[0mfig\u001b[0m\u001b[1;33m,\u001b[0m \u001b[0maxs\u001b[0m \u001b[1;33m=\u001b[0m \u001b[0mplt\u001b[0m\u001b[1;33m.\u001b[0m\u001b[0msubplots\u001b[0m\u001b[1;33m(\u001b[0m\u001b[1;36m2\u001b[0m\u001b[1;33m,\u001b[0m\u001b[1;36m2\u001b[0m\u001b[1;33m,\u001b[0m\u001b[0mfigsize\u001b[0m\u001b[1;33m=\u001b[0m\u001b[1;33m(\u001b[0m\u001b[1;36m12\u001b[0m\u001b[1;33m,\u001b[0m\u001b[1;36m10\u001b[0m\u001b[1;33m)\u001b[0m\u001b[1;33m)\u001b[0m\u001b[1;33m\u001b[0m\u001b[0m\n\u001b[1;32m----> 4\u001b[1;33m \u001b[0maxs\u001b[0m\u001b[1;33m[\u001b[0m\u001b[1;36m0\u001b[0m\u001b[1;33m,\u001b[0m\u001b[1;36m0\u001b[0m\u001b[1;33m]\u001b[0m\u001b[1;33m.\u001b[0m\u001b[0mplot\u001b[0m\u001b[1;33m(\u001b[0m\u001b[0mbattery_states\u001b[0m\u001b[1;33m[\u001b[0m\u001b[0mday\u001b[0m\u001b[1;33m]\u001b[0m\u001b[1;33m)\u001b[0m\u001b[1;33m\u001b[0m\u001b[0m\n\u001b[0m\u001b[0;32m      5\u001b[0m \u001b[0maxs\u001b[0m\u001b[1;33m[\u001b[0m\u001b[1;36m0\u001b[0m\u001b[1;33m,\u001b[0m\u001b[1;36m0\u001b[0m\u001b[1;33m]\u001b[0m\u001b[1;33m.\u001b[0m\u001b[0mplot\u001b[0m\u001b[1;33m(\u001b[0m\u001b[0mh2_vessel_states\u001b[0m\u001b[1;33m[\u001b[0m\u001b[0mday\u001b[0m\u001b[1;33m]\u001b[0m\u001b[1;33m)\u001b[0m\u001b[1;33m\u001b[0m\u001b[0m\n\u001b[0;32m      6\u001b[0m \u001b[0maxs\u001b[0m\u001b[1;33m[\u001b[0m\u001b[1;36m0\u001b[0m\u001b[1;33m,\u001b[0m\u001b[1;36m0\u001b[0m\u001b[1;33m]\u001b[0m\u001b[1;33m.\u001b[0m\u001b[0mplot\u001b[0m\u001b[1;33m(\u001b[0m\u001b[0mnormalized_prod_dataset\u001b[0m\u001b[1;33m[\u001b[0m\u001b[1;36m0\u001b[0m\u001b[1;33m:\u001b[0m\u001b[1;36m48\u001b[0m\u001b[1;33m]\u001b[0m\u001b[1;33m/\u001b[0m\u001b[0mmax\u001b[0m\u001b[1;33m(\u001b[0m\u001b[0mnormalized_prod_dataset\u001b[0m\u001b[1;33m)\u001b[0m\u001b[1;33m*\u001b[0m\u001b[1;36m100\u001b[0m\u001b[1;33m)\u001b[0m\u001b[1;33m\u001b[0m\u001b[0m\n",
      "\u001b[1;31mNameError\u001b[0m: name 'battery_states' is not defined"
     ]
    },
    {
     "data": {
      "image/png": "[encoded data removed]",
      "text/plain": [
       "<Figure size 1200x1000 with 4 Axes>"
      ]
     },
     "metadata": {},
     "output_type": "display_data"
    }
   ],
   "source": [
    "day=0\n",
    "\n",
    "fig, axs = plt.subplots(2,2,figsize=(12,10))\n",
    "axs[0,0].plot(battery_states[day])\n",
    "axs[0,0].plot(h2_vessel_states[day])\n",
    "axs[0,0].plot(normalized_prod_dataset[0:48]/max(normalized_prod_dataset)*100)\n",
    "axs[0,0].plot(normalized_price_dataset[0:48]/max(normalized_price_dataset)*100)\n",
    "axs[0,0].set_xlabel(\"Horizon\")\n",
    "axs[0,0].set_ylabel(\"% of max\")\n",
    "axs[0,0].legend(('Battery load','h2 vessel load','Energy production','Price of electricity'),loc='lower right')\n",
    "\n",
    "axs[0,1].plot(flow_g[day][:])\n",
    "axs[0,1].plot(normalized_price_dataset[0:48]/max(normalized_price_dataset)*100)\n",
    "axs[0,1].legend(('Flow from/to grid','Price of electricity'))\n",
    "\n",
    "axs[1,0].plot(regime_e[day][:])\n",
    "axs[1,0].plot(h2_vessel_states[day][:])\n",
    "axs[1,0].legend(('Electrolyzer regime','h2 vessel load'))\n",
    "\n",
    "#eval_rewards[eval_rewards<-100]= -0.05\n",
    "#axs[1,1].plot(eval_rewards)\n",
    "#axs[1,1].set_ylabel(\"Evaluation reward\")\n",
    "#axs[1,1].set_xlabel(\"Epochs\")\n",
    "#plt.show()"
   ]
  },
  {
   "cell_type": "code",
   "execution_count": null,
   "metadata": {
    "collapsed": true
   },
   "outputs": [],
   "source": []
  },
  {
   "cell_type": "code",
   "execution_count": null,
   "metadata": {
    "collapsed": true
   },
   "outputs": [],
   "source": []
  }
 ],
 "metadata": {
  "kernelspec": {
   "display_name": "Python 3",
   "language": "python",
   "name": "python3"
  },
  "language_info": {
   "codemirror_mode": {
    "name": "ipython",
    "version": 3
   },
   "file_extension": ".py",
   "mimetype": "text/x-python",
   "name": "python",
   "nbconvert_exporter": "python",
   "pygments_lexer": "ipython3",
   "version": "3.5.5"
  }
 },
 "nbformat": 4,
 "nbformat_minor": 2
}
